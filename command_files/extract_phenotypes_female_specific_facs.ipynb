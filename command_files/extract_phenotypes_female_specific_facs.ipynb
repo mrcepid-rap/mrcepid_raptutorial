{
 "cells": [
  {
   "cell_type": "code",
   "execution_count": 1,
   "id": "d16c2540",
   "metadata": {},
   "outputs": [],
   "source": [
    "%%bash\n",
    "\n",
    "dx download \"/genetics_of_miscarriage/command_files/pheno_extraction/extract_phenotypes_miscarriage_genetics.ipynb\""
   ]
  },
  {
   "cell_type": "code",
   "execution_count": null,
   "id": "57a47cca",
   "metadata": {},
   "outputs": [],
   "source": []
  },
  {
   "cell_type": "markdown",
   "id": "1e60a9bd",
   "metadata": {},
   "source": [
    "### 1. Import pkgs and init"
   ]
  },
  {
   "cell_type": "code",
   "execution_count": 2,
   "id": "99057c54",
   "metadata": {},
   "outputs": [],
   "source": [
    "import pyspark\n",
    "import dxpy\n",
    "import dxdata\n",
    "import pandas as pd"
   ]
  },
  {
   "cell_type": "code",
   "execution_count": 3,
   "id": "912b632c",
   "metadata": {},
   "outputs": [],
   "source": [
    "# init spark\n",
    "sc = pyspark.SparkContext()\n",
    "spark = pyspark.sql.SparkSession(sc)"
   ]
  },
  {
   "cell_type": "code",
   "execution_count": 4,
   "id": "592294e3",
   "metadata": {},
   "outputs": [],
   "source": [
    "# Automatically discover dispensed dataset name and id - specific to each project\n",
    "\n",
    "dispensed_database_name = dxpy.find_one_data_object(classname = \"database\",\n",
    "                                                   name = \"app*\", folder = \"/\",\n",
    "                                                   name_mode = \"glob\",\n",
    "                                                   describe = True) [\"describe\"] [\"name\"]\n",
    "\n",
    "dispensed_dataset_id = dxpy.find_one_data_object(typename = \"Dataset\",\n",
    "                                                name = \"app*.dataset\", folder = \"/\",\n",
    "                                                name_mode = \"glob\") [\"id\"]\n",
    "\n"
   ]
  },
  {
   "cell_type": "markdown",
   "id": "b13ba447",
   "metadata": {},
   "source": [
    "### 2. Load datatset and def entity"
   ]
  },
  {
   "cell_type": "code",
   "execution_count": 5,
   "id": "2e7d1405",
   "metadata": {},
   "outputs": [],
   "source": [
    "dataset = dxdata.load_dataset(id = dispensed_dataset_id)"
   ]
  },
  {
   "cell_type": "code",
   "execution_count": 6,
   "id": "b2081c44",
   "metadata": {},
   "outputs": [
    {
     "data": {
      "text/plain": [
       "[<Entity \"participant\">,\n",
       " <Entity \"covid19_result_england\">,\n",
       " <Entity \"covid19_result_scotland\">,\n",
       " <Entity \"covid19_result_wales\">,\n",
       " <Entity \"death\">,\n",
       " <Entity \"death_cause\">,\n",
       " <Entity \"gp_clinical\">,\n",
       " <Entity \"gp_registrations\">,\n",
       " <Entity \"gp_scripts\">,\n",
       " <Entity \"hesin\">,\n",
       " <Entity \"hesin_critical\">,\n",
       " <Entity \"hesin_delivery\">,\n",
       " <Entity \"hesin_diag\">,\n",
       " <Entity \"hesin_maternity\">,\n",
       " <Entity \"hesin_oper\">,\n",
       " <Entity \"hesin_psych\">]"
      ]
     },
     "execution_count": 6,
     "metadata": {},
     "output_type": "execute_result"
    }
   ],
   "source": [
    "dataset.entities"
   ]
  },
  {
   "cell_type": "code",
   "execution_count": 7,
   "id": "f5ef487b",
   "metadata": {},
   "outputs": [],
   "source": [
    "participant = dataset[\"participant\"]"
   ]
  },
  {
   "cell_type": "markdown",
   "id": "e1722964",
   "metadata": {},
   "source": [
    "### 3. Import relevant fields"
   ]
  },
  {
   "cell_type": "code",
   "execution_count": 8,
   "id": "b079de98",
   "metadata": {},
   "outputs": [],
   "source": [
    "%%bash\n",
    "\n",
    "dx download \"/genetics_of_miscarriage/original_data/fem_spec_facs_ukb_field_names_pyspark.txt\""
   ]
  },
  {
   "cell_type": "code",
   "execution_count": 9,
   "id": "6aa09dc4",
   "metadata": {},
   "outputs": [],
   "source": [
    "with open(\"fem_spec_facs_ukb_field_names_pyspark.txt\") as f:\n",
    "    field_names = [line.rstrip('\\n') for line in f]\n",
    "\n",
    "del field_names[0]\n",
    "field_names.extend([\"eid\"])\n"
   ]
  },
  {
   "cell_type": "code",
   "execution_count": 14,
   "id": "5dd9eb58",
   "metadata": {},
   "outputs": [],
   "source": [
    "field_names.remove(\"p10132\") # note that this works only on 1st instance of element with this name"
   ]
  },
  {
   "cell_type": "code",
   "execution_count": 20,
   "id": "95dbce83",
   "metadata": {},
   "outputs": [],
   "source": [
    "field_names.extend([\"p31\"])"
   ]
  },
  {
   "cell_type": "code",
   "execution_count": 15,
   "id": "30373065",
   "metadata": {},
   "outputs": [
    {
     "name": "stdout",
     "output_type": "stream",
     "text": [
      "['p2674_i0', 'p2674_i1', 'p2674_i2', 'p2674_i3', 'p2684_i0', 'p2684_i1', 'p2684_i2', 'p2684_i3', 'p2694_i0', 'p2694_i1', 'p2694_i2', 'p2694_i3', 'p2704_i0', 'p2704_i1', 'p2704_i2', 'p2704_i3', 'p2714_i0', 'p2714_i1', 'p2714_i2', 'p2714_i3', 'p2724_i0', 'p2724_i1', 'p2724_i2', 'p2724_i3', 'p2734_i0', 'p2734_i1', 'p2734_i2', 'p2734_i3', 'p2744_i0', 'p2744_i1', 'p2744_i2', 'p2744_i3', 'p2754_i0', 'p2754_i1', 'p2754_i2', 'p2754_i3', 'p2764_i0', 'p2764_i1', 'p2764_i2', 'p2764_i3', 'p2774_i0', 'p2774_i1', 'p2774_i2', 'p2774_i3', 'p2784_i0', 'p2784_i1', 'p2784_i2', 'p2784_i3', 'p2794_i0', 'p2794_i1', 'p2794_i2', 'p2794_i3', 'p2804_i0', 'p2804_i1', 'p2804_i2', 'p2804_i3', 'p2814_i0', 'p2814_i1', 'p2814_i2', 'p2814_i3', 'p2824_i0', 'p2824_i1', 'p2824_i2', 'p2824_i3', 'p2834_i0', 'p2834_i1', 'p2834_i2', 'p2834_i3', 'p3536_i0', 'p3536_i1', 'p3536_i2', 'p3536_i3', 'p3546_i0', 'p3546_i1', 'p3546_i2', 'p3546_i3', 'p3581_i0', 'p3581_i1', 'p3581_i2', 'p3581_i3', 'p3591_i0', 'p3591_i1', 'p3591_i2', 'p3591_i3', 'p3700_i0', 'p3700_i1', 'p3700_i2', 'p3700_i3', 'p3710_i0', 'p3710_i1', 'p3710_i2', 'p3710_i3', 'p3720_i0', 'p3720_i1', 'p3720_i2', 'p3720_i3', 'p3829_i0', 'p3829_i1', 'p3829_i2', 'p3829_i3', 'p3839_i0', 'p3839_i1', 'p3839_i2', 'p3839_i3', 'p3849_i0', 'p3849_i1', 'p3849_i2', 'p3849_i3', 'p3872_i0', 'p3872_i1', 'p3872_i2', 'p3872_i3', 'p3882_i0', 'p3882_i1', 'p3882_i2', 'p3882_i3', 'eid']\n"
     ]
    }
   ],
   "source": [
    "print(field_names)"
   ]
  },
  {
   "cell_type": "code",
   "execution_count": 21,
   "id": "f16f9b85",
   "metadata": {},
   "outputs": [
    {
     "name": "stderr",
     "output_type": "stream",
     "text": [
      "[dxdata.dataset.dataset] WARNING: Dataframe schema name(s): ['participant_0006$p2674_i0', 'participant_0006$p2674_i1', 'participant_0006$p2674_i2', 'participant_0006$p2674_i3', 'participant_0006$p2684_i0', 'participant_0006$p2684_i1', 'participant_0006$p2684_i2', 'participant_0006$p2684_i3', 'participant_0006$p2694_i0', 'participant_0006$p2694_i1', 'participant_0006$p2694_i2', 'participant_0006$p2694_i3', 'participant_0006$p2704_i0', 'participant_0006$p2704_i1', 'participant_0006$p2704_i2', 'participant_0006$p2704_i3', 'participant_0006$p2714_i0', 'participant_0006$p2714_i1', 'participant_0006$p2714_i2', 'participant_0006$p2714_i3', 'participant_0006$p2724_i0', 'participant_0006$p2724_i1', 'participant_0006$p2724_i2', 'participant_0006$p2724_i3', 'participant_0006$p2734_i0', 'participant_0006$p2734_i1', 'participant_0006$p2734_i2', 'participant_0006$p2734_i3', 'participant_0006$p2744_i0', 'participant_0006$p2744_i1', 'participant_0006$p2744_i2', 'participant_0006$p2744_i3', 'participant_0006$p2754_i0', 'participant_0006$p2754_i1', 'participant_0006$p2754_i2', 'participant_0006$p2754_i3', 'participant_0006$p2764_i0', 'participant_0006$p2764_i1', 'participant_0006$p2764_i2', 'participant_0006$p2764_i3', 'participant_0006$p2774_i0', 'participant_0006$p2774_i1', 'participant_0006$p2774_i2', 'participant_0006$p2774_i3', 'participant_0006$p2784_i0', 'participant_0006$p2784_i1', 'participant_0006$p2784_i2', 'participant_0006$p2784_i3', 'participant_0006$p2794_i0', 'participant_0006$p2794_i1', 'participant_0006$p2794_i2', 'participant_0006$p2794_i3', 'participant_0006$p2804_i0', 'participant_0006$p2804_i1', 'participant_0006$p2804_i2', 'participant_0006$p2804_i3', 'participant_0006$p2814_i0', 'participant_0006$p2814_i1', 'participant_0006$p2814_i2', 'participant_0006$p2814_i3', 'participant_0006$p2824_i0', 'participant_0006$p2824_i1', 'participant_0006$p2824_i2', 'participant_0006$p2824_i3', 'participant_0006$p2834_i0', 'participant_0006$p2834_i1', 'participant_0006$p2834_i2', 'participant_0006$p2834_i3', 'participant_0007$p3536_i0', 'participant_0007$p3536_i1', 'participant_0007$p3536_i2', 'participant_0007$p3536_i3', 'participant_0007$p3546_i0', 'participant_0007$p3546_i1', 'participant_0007$p3546_i2', 'participant_0007$p3546_i3', 'participant_0007$p3581_i0', 'participant_0007$p3581_i1', 'participant_0007$p3581_i2', 'participant_0007$p3581_i3', 'participant_0007$p3591_i0', 'participant_0007$p3591_i1', 'participant_0007$p3591_i2', 'participant_0007$p3591_i3', 'participant_0008$p3700_i0', 'participant_0008$p3700_i1', 'participant_0008$p3700_i2', 'participant_0008$p3700_i3', 'participant_0008$p3710_i0', 'participant_0008$p3710_i1', 'participant_0008$p3710_i2', 'participant_0008$p3710_i3', 'participant_0008$p3720_i0', 'participant_0008$p3720_i1', 'participant_0008$p3720_i2', 'participant_0008$p3720_i3', 'participant_0008$p3829_i0', 'participant_0008$p3829_i1', 'participant_0008$p3829_i2', 'participant_0008$p3829_i3', 'participant_0008$p3839_i0', 'participant_0008$p3839_i1', 'participant_0008$p3839_i2', 'participant_0008$p3839_i3', 'participant_0008$p3849_i0', 'participant_0008$p3849_i1', 'participant_0008$p3849_i2', 'participant_0008$p3849_i3', 'participant_0008$p3872_i0', 'participant_0008$p3872_i1', 'participant_0008$p3872_i2', 'participant_0008$p3872_i3', 'participant_0008$p3882_i0', 'participant_0008$p3882_i1', 'participant_0008$p3882_i2', 'participant_0008$p3882_i3', 'participant_0001$eid', 'participant_0001$p31'] not found in ordered columns: ['participant$p2674_i0', 'participant$p2674_i1', 'participant$p2674_i2', 'participant$p2674_i3', 'participant$p2684_i0', 'participant$p2684_i1', 'participant$p2684_i2', 'participant$p2684_i3', 'participant$p2694_i0', 'participant$p2694_i1', 'participant$p2694_i2', 'participant$p2694_i3', 'participant$p2704_i0', 'participant$p2704_i1', 'participant$p2704_i2', 'participant$p2704_i3', 'participant$p2714_i0', 'participant$p2714_i1', 'participant$p2714_i2', 'participant$p2714_i3', 'participant$p2724_i0', 'participant$p2724_i1', 'participant$p2724_i2', 'participant$p2724_i3', 'participant$p2734_i0', 'participant$p2734_i1', 'participant$p2734_i2', 'participant$p2734_i3', 'participant$p2744_i0', 'participant$p2744_i1', 'participant$p2744_i2', 'participant$p2744_i3', 'participant$p2754_i0', 'participant$p2754_i1', 'participant$p2754_i2', 'participant$p2754_i3', 'participant$p2764_i0', 'participant$p2764_i1', 'participant$p2764_i2', 'participant$p2764_i3', 'participant$p2774_i0', 'participant$p2774_i1', 'participant$p2774_i2', 'participant$p2774_i3', 'participant$p2784_i0', 'participant$p2784_i1', 'participant$p2784_i2', 'participant$p2784_i3', 'participant$p2794_i0', 'participant$p2794_i1', 'participant$p2794_i2', 'participant$p2794_i3', 'participant$p2804_i0', 'participant$p2804_i1', 'participant$p2804_i2', 'participant$p2804_i3', 'participant$p2814_i0', 'participant$p2814_i1', 'participant$p2814_i2', 'participant$p2814_i3', 'participant$p2824_i0', 'participant$p2824_i1', 'participant$p2824_i2', 'participant$p2824_i3', 'participant$p2834_i0', 'participant$p2834_i1', 'participant$p2834_i2', 'participant$p2834_i3', 'participant$p3536_i0', 'participant$p3536_i1', 'participant$p3536_i2', 'participant$p3536_i3', 'participant$p3546_i0', 'participant$p3546_i1', 'participant$p3546_i2', 'participant$p3546_i3', 'participant$p3581_i0', 'participant$p3581_i1', 'participant$p3581_i2', 'participant$p3581_i3', 'participant$p3591_i0', 'participant$p3591_i1', 'participant$p3591_i2', 'participant$p3591_i3', 'participant$p3700_i0', 'participant$p3700_i1', 'participant$p3700_i2', 'participant$p3700_i3', 'participant$p3710_i0', 'participant$p3710_i1', 'participant$p3710_i2', 'participant$p3710_i3', 'participant$p3720_i0', 'participant$p3720_i1', 'participant$p3720_i2', 'participant$p3720_i3', 'participant$p3829_i0', 'participant$p3829_i1', 'participant$p3829_i2', 'participant$p3829_i3', 'participant$p3839_i0', 'participant$p3839_i1', 'participant$p3839_i2', 'participant$p3839_i3', 'participant$p3849_i0', 'participant$p3849_i1', 'participant$p3849_i2', 'participant$p3849_i3', 'participant$p3872_i0', 'participant$p3872_i1', 'participant$p3872_i2', 'participant$p3872_i3', 'participant$p3882_i0', 'participant$p3882_i1', 'participant$p3882_i2', 'participant$p3882_i3', 'participant$eid', 'participant$p31']\n"
     ]
    }
   ],
   "source": [
    "df = participant.retrieve_fields(names = field_names,\n",
    "                                #filter_sql = cohort.sql\n",
    "                                coding_values = \"replace\", #Replaces coded values with actual values e.g. 1/0 with M/F\n",
    "                                engine = dxdata.connect())"
   ]
  },
  {
   "cell_type": "code",
   "execution_count": 22,
   "id": "070afd51",
   "metadata": {},
   "outputs": [
    {
     "data": {
      "text/html": [
       "<div>\n",
       "<style scoped>\n",
       "    .dataframe tbody tr th:only-of-type {\n",
       "        vertical-align: middle;\n",
       "    }\n",
       "\n",
       "    .dataframe tbody tr th {\n",
       "        vertical-align: top;\n",
       "    }\n",
       "\n",
       "    .dataframe thead th {\n",
       "        text-align: right;\n",
       "    }\n",
       "</style>\n",
       "<table border=\"1\" class=\"dataframe\">\n",
       "  <thead>\n",
       "    <tr style=\"text-align: right;\">\n",
       "      <th></th>\n",
       "      <th>p2674_i0</th>\n",
       "      <th>p2674_i1</th>\n",
       "      <th>p2674_i2</th>\n",
       "      <th>p2674_i3</th>\n",
       "      <th>p2684_i0</th>\n",
       "      <th>p2684_i1</th>\n",
       "      <th>p2684_i2</th>\n",
       "      <th>p2684_i3</th>\n",
       "      <th>p2694_i0</th>\n",
       "      <th>p2694_i1</th>\n",
       "      <th>...</th>\n",
       "      <th>p3872_i0</th>\n",
       "      <th>p3872_i1</th>\n",
       "      <th>p3872_i2</th>\n",
       "      <th>p3872_i3</th>\n",
       "      <th>p3882_i0</th>\n",
       "      <th>p3882_i1</th>\n",
       "      <th>p3882_i2</th>\n",
       "      <th>p3882_i3</th>\n",
       "      <th>eid</th>\n",
       "      <th>p31</th>\n",
       "    </tr>\n",
       "  </thead>\n",
       "  <tbody>\n",
       "    <tr>\n",
       "      <th>0</th>\n",
       "      <td>Yes</td>\n",
       "      <td>None</td>\n",
       "      <td>None</td>\n",
       "      <td>None</td>\n",
       "      <td>3</td>\n",
       "      <td>None</td>\n",
       "      <td>None</td>\n",
       "      <td>None</td>\n",
       "      <td>Yes</td>\n",
       "      <td>None</td>\n",
       "      <td>...</td>\n",
       "      <td>27</td>\n",
       "      <td>None</td>\n",
       "      <td>None</td>\n",
       "      <td>None</td>\n",
       "      <td>None</td>\n",
       "      <td>None</td>\n",
       "      <td>None</td>\n",
       "      <td>None</td>\n",
       "      <td>1000020</td>\n",
       "      <td>Female</td>\n",
       "    </tr>\n",
       "    <tr>\n",
       "      <th>1</th>\n",
       "      <td>None</td>\n",
       "      <td>None</td>\n",
       "      <td>None</td>\n",
       "      <td>None</td>\n",
       "      <td>None</td>\n",
       "      <td>None</td>\n",
       "      <td>None</td>\n",
       "      <td>None</td>\n",
       "      <td>None</td>\n",
       "      <td>None</td>\n",
       "      <td>...</td>\n",
       "      <td>None</td>\n",
       "      <td>None</td>\n",
       "      <td>None</td>\n",
       "      <td>None</td>\n",
       "      <td>None</td>\n",
       "      <td>None</td>\n",
       "      <td>None</td>\n",
       "      <td>None</td>\n",
       "      <td>1000104</td>\n",
       "      <td>Male</td>\n",
       "    </tr>\n",
       "    <tr>\n",
       "      <th>2</th>\n",
       "      <td>None</td>\n",
       "      <td>None</td>\n",
       "      <td>None</td>\n",
       "      <td>None</td>\n",
       "      <td>None</td>\n",
       "      <td>None</td>\n",
       "      <td>None</td>\n",
       "      <td>None</td>\n",
       "      <td>None</td>\n",
       "      <td>None</td>\n",
       "      <td>...</td>\n",
       "      <td>None</td>\n",
       "      <td>None</td>\n",
       "      <td>None</td>\n",
       "      <td>None</td>\n",
       "      <td>None</td>\n",
       "      <td>None</td>\n",
       "      <td>None</td>\n",
       "      <td>None</td>\n",
       "      <td>1000181</td>\n",
       "      <td>Male</td>\n",
       "    </tr>\n",
       "    <tr>\n",
       "      <th>3</th>\n",
       "      <td>No</td>\n",
       "      <td>None</td>\n",
       "      <td>None</td>\n",
       "      <td>None</td>\n",
       "      <td>None</td>\n",
       "      <td>None</td>\n",
       "      <td>None</td>\n",
       "      <td>None</td>\n",
       "      <td>Yes</td>\n",
       "      <td>None</td>\n",
       "      <td>...</td>\n",
       "      <td>None</td>\n",
       "      <td>None</td>\n",
       "      <td>None</td>\n",
       "      <td>None</td>\n",
       "      <td>None</td>\n",
       "      <td>None</td>\n",
       "      <td>None</td>\n",
       "      <td>None</td>\n",
       "      <td>1000254</td>\n",
       "      <td>Female</td>\n",
       "    </tr>\n",
       "    <tr>\n",
       "      <th>4</th>\n",
       "      <td>None</td>\n",
       "      <td>None</td>\n",
       "      <td>None</td>\n",
       "      <td>None</td>\n",
       "      <td>None</td>\n",
       "      <td>None</td>\n",
       "      <td>None</td>\n",
       "      <td>None</td>\n",
       "      <td>None</td>\n",
       "      <td>None</td>\n",
       "      <td>...</td>\n",
       "      <td>None</td>\n",
       "      <td>None</td>\n",
       "      <td>None</td>\n",
       "      <td>None</td>\n",
       "      <td>None</td>\n",
       "      <td>None</td>\n",
       "      <td>None</td>\n",
       "      <td>None</td>\n",
       "      <td>1000268</td>\n",
       "      <td>Male</td>\n",
       "    </tr>\n",
       "  </tbody>\n",
       "</table>\n",
       "<p>5 rows × 118 columns</p>\n",
       "</div>"
      ],
      "text/plain": [
       "  p2674_i0 p2674_i1 p2674_i2 p2674_i3 p2684_i0 p2684_i1 p2684_i2 p2684_i3  \\\n",
       "0      Yes     None     None     None        3     None     None     None   \n",
       "1     None     None     None     None     None     None     None     None   \n",
       "2     None     None     None     None     None     None     None     None   \n",
       "3       No     None     None     None     None     None     None     None   \n",
       "4     None     None     None     None     None     None     None     None   \n",
       "\n",
       "  p2694_i0 p2694_i1  ... p3872_i0 p3872_i1 p3872_i2 p3872_i3 p3882_i0  \\\n",
       "0      Yes     None  ...       27     None     None     None     None   \n",
       "1     None     None  ...     None     None     None     None     None   \n",
       "2     None     None  ...     None     None     None     None     None   \n",
       "3      Yes     None  ...     None     None     None     None     None   \n",
       "4     None     None  ...     None     None     None     None     None   \n",
       "\n",
       "  p3882_i1 p3882_i2 p3882_i3      eid     p31  \n",
       "0     None     None     None  1000020  Female  \n",
       "1     None     None     None  1000104    Male  \n",
       "2     None     None     None  1000181    Male  \n",
       "3     None     None     None  1000254  Female  \n",
       "4     None     None     None  1000268    Male  \n",
       "\n",
       "[5 rows x 118 columns]"
      ]
     },
     "execution_count": 22,
     "metadata": {},
     "output_type": "execute_result"
    }
   ],
   "source": [
    "df.limit(5).toPandas()"
   ]
  },
  {
   "cell_type": "markdown",
   "id": "f9a0785c",
   "metadata": {},
   "source": [
    "### 4. Field matching"
   ]
  },
  {
   "cell_type": "code",
   "execution_count": 23,
   "id": "b17be537",
   "metadata": {},
   "outputs": [],
   "source": [
    "def fields_for_id(field_id):\n",
    "    from distutils.version import LooseVersion\n",
    "    field_id = str(field_id)\n",
    "    fields = participant.find_fields(name_regex='^p{}(_i\\d+)?(_a\\d+)?$'.format(field_id))\n",
    "    return sorted(fields, key=lambda f: LooseVersion(f.name))"
   ]
  },
  {
   "cell_type": "code",
   "execution_count": 24,
   "id": "839a1740",
   "metadata": {},
   "outputs": [],
   "source": [
    "def field_names_for_id(field_id):\n",
    "    return[f.name for f in fields_for_id(field_id)]"
   ]
  },
  {
   "cell_type": "markdown",
   "id": "0934d2ed",
   "metadata": {},
   "source": [
    "### 5. Extract relevant data for females"
   ]
  },
  {
   "cell_type": "code",
   "execution_count": 25,
   "id": "9125fd0a",
   "metadata": {},
   "outputs": [
    {
     "name": "stdout",
     "output_type": "stream",
     "text": [
      "502415\n"
     ]
    }
   ],
   "source": [
    "print(df.count())"
   ]
  },
  {
   "cell_type": "code",
   "execution_count": 26,
   "id": "5c4fbd9f",
   "metadata": {},
   "outputs": [],
   "source": [
    "df_female = df.filter(\"p31 = 'Female'\")"
   ]
  },
  {
   "cell_type": "code",
   "execution_count": 27,
   "id": "17ed5060",
   "metadata": {},
   "outputs": [
    {
     "name": "stdout",
     "output_type": "stream",
     "text": [
      "273329\n"
     ]
    }
   ],
   "source": [
    "print(df_female.count())"
   ]
  },
  {
   "cell_type": "code",
   "execution_count": 28,
   "id": "2cb8c6c0",
   "metadata": {},
   "outputs": [],
   "source": [
    "df_female.toPandas().to_csv(\"miscarriage_genetics_female_specific_phenos.tsv\", sep=\"\\t\", index=False)"
   ]
  },
  {
   "cell_type": "code",
   "execution_count": 29,
   "id": "20a0aac7",
   "metadata": {},
   "outputs": [
    {
     "name": "stdout",
     "output_type": "stream",
     "text": [
      "ID                    file-G6yyyyjJZGX7gv6F1z9KBv29\n",
      "Class                 file\n",
      "Project               project-G6Z05V8JZGX3JBB9JpBqX6V7\n",
      "Folder                /genetics_of_miscarriage/original_data\n",
      "Name                  miscarriage_genetics_female_specific_phenos.tsv\n",
      "State                 closing\n",
      "Visibility            visible\n",
      "Types                 -\n",
      "Properties            -\n",
      "Tags                  -\n",
      "Outgoing links        -\n",
      "Created               Sat Dec 18 14:26:03 2021\n",
      "Created by            alexander_moerseburg\n",
      " via the job          job-G6yyYFjJZGX6BP9J6zXQ244k\n",
      "Last modified         Sat Dec 18 14:26:06 2021\n",
      "Media type            \n",
      "archivalState         \"live\"\n",
      "cloudAccount          \"cloudaccount-dnanexus\"\n"
     ]
    }
   ],
   "source": [
    "%%bash\n",
    "dx upload miscarriage_genetics_female_specific_phenos.tsv --dest /genetics_of_miscarriage/original_data/miscarriage_genetics_female_specific_phenos.tsv"
   ]
  },
  {
   "cell_type": "code",
   "execution_count": null,
   "id": "d559c21d",
   "metadata": {},
   "outputs": [],
   "source": []
  }
 ],
 "metadata": {
  "kernelspec": {
   "display_name": "Python 3",
   "language": "python",
   "name": "python3"
  },
  "language_info": {
   "codemirror_mode": {
    "name": "ipython",
    "version": 3
   },
   "file_extension": ".py",
   "mimetype": "text/x-python",
   "name": "python",
   "nbconvert_exporter": "python",
   "pygments_lexer": "ipython3",
   "version": "3.9.5"
  }
 },
 "nbformat": 4,
 "nbformat_minor": 5
}
